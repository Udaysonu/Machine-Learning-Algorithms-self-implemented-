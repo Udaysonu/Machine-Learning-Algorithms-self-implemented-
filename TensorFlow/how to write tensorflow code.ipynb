{
 "cells": [
  {
   "cell_type": "code",
   "execution_count": 52,
   "metadata": {},
   "outputs": [],
   "source": [
    "#import tensorflow library\n",
    "import tensorflow.compat.v1 as tf\n",
    "tf.disable_v2_behavior()\n",
    "import numpy as np"
   ]
  },
  {
   "cell_type": "code",
   "execution_count": 40,
   "metadata": {},
   "outputs": [],
   "source": [
    "from sklearn import datasets \n",
    "mnist = datasets.load_digits()\n"
   ]
  },
  {
   "cell_type": "code",
   "execution_count": 57,
   "metadata": {},
   "outputs": [],
   "source": [
    "target=[]\n",
    "for i in mnist.target:\n",
    "    data=np.zeros(10)\n",
    "    data[i]=1\n",
    "    target.append(data)\n",
    "data=mnist.data"
   ]
  },
  {
   "cell_type": "code",
   "execution_count": 58,
   "metadata": {},
   "outputs": [],
   "source": [
    "from sklearn.model_selection import train_test_split\n",
    "x_train,x_test,y_train,y_test=train_test_split(data,target)"
   ]
  },
  {
   "cell_type": "code",
   "execution_count": 88,
   "metadata": {},
   "outputs": [
    {
     "data": {
      "text/plain": [
       "<Figure size 648x648 with 0 Axes>"
      ]
     },
     "metadata": {},
     "output_type": "display_data"
    }
   ],
   "source": [
    "import matplotlib.pyplot as plt\n",
    "fig=plt.figure(figsize=(9,9))"
   ]
  },
  {
   "cell_type": "code",
   "execution_count": 99,
   "metadata": {},
   "outputs": [],
   "source": [
    "n_input=64\n",
    "n_hidden_1=30\n",
    "n_hidden_2=20\n",
    "n_classes=10\n",
    "\n",
    "weights={\n",
    "    \"h1\":tf.Variable(tf.random_normal([n_input,n_hidden_1])),\n",
    "    \"h2\":tf.Variable(tf.random_normal([n_hidden_1,n_hidden_2])),\n",
    "    \"out\":tf.Variable(tf.random_normal([n_hidden_2,n_classes]))\n",
    "}\n",
    "\n",
    "biases={\n",
    "    \"h1\":tf.Variable(tf.random_normal([n_hidden_1])),\n",
    "    \"h2\":tf.Variable(tf.random_normal([n_hidden_2])),\n",
    "    \"out\":tf.Variable(tf.random_normal([n_classes]))\n",
    "}"
   ]
  },
  {
   "cell_type": "code",
   "execution_count": 102,
   "metadata": {},
   "outputs": [],
   "source": [
    "def forwardPropogation(x,weights,biases):\n",
    "    in_layer1=tf.add(tf.matmul(x,weights[\"h1\"]),biases[\"h1\"])\n",
    "    out_layer1=tf.nn.relu(in_layer1)\n",
    "    \n",
    "    in_layer2=tf.add(tf.matmul(out_layer1,weights[\"h2\"]),biases[\"h2\"])\n",
    "    out_layer2=tf.nn.relu(in_layer2)\n",
    "    \n",
    "    output=tf.add(tf.matmul(out_layer2,weights[\"out\"]),biases[\"out\"])\n",
    "    return output\n"
   ]
  },
  {
   "cell_type": "code",
   "execution_count": 767,
   "metadata": {},
   "outputs": [],
   "source": [
    "x=tf.placeholder(\"float\",[None,n_input])\n",
    "y=tf.placeholder(tf.int32,[None,n_classes])\n",
    "pred=forwardPropogation(x,weights,biases)\n",
    "predictions=tf.argmax(pred,1)\n",
    "y_=tf.argmax(y,1)"
   ]
  },
  {
   "cell_type": "code",
   "execution_count": 768,
   "metadata": {},
   "outputs": [],
   "source": [
    "cost=tf.reduce_mean(tf.nn.softmax_cross_entropy_with_logits(logits=pred,labels=y))\n",
    "optimizer=tf.train.AdamOptimizer(learning_rate=0.01)\n",
    "optimize=optimizer.minimize(cost)\n",
    "optimize\n",
    "sess=tf.Session()\n",
    "sess.run(tf.global_variables_initializer())\n"
   ]
  },
  {
   "cell_type": "code",
   "execution_count": 936,
   "metadata": {},
   "outputs": [
    {
     "data": {
      "text/plain": [
       "1.7847276"
      ]
     },
     "execution_count": 936,
     "metadata": {},
     "output_type": "execute_result"
    }
   ],
   "source": [
    "c,_,y_p,y_t=sess.run([cost,optimize,predictions,y_],feed_dict={x:data,y:target})\n",
    "c"
   ]
  },
  {
   "cell_type": "code",
   "execution_count": 938,
   "metadata": {
    "scrolled": false
   },
   "outputs": [
    {
     "data": {
      "text/plain": [
       "1209"
      ]
     },
     "execution_count": 938,
     "metadata": {},
     "output_type": "execute_result"
    }
   ],
   "source": [
    "sess.run(tf.equal(y_t,y_p)).sum()\n"
   ]
  },
  {
   "cell_type": "code",
   "execution_count": 941,
   "metadata": {},
   "outputs": [
    {
     "data": {
      "text/plain": [
       "array([[167,   0,   1,   0,   0,   3,   1,   6,   0,   0],\n",
       "       [  0, 118,  52,   1,   2,   0,   4,   1,   0,   4],\n",
       "       [  0,   3, 144,   8,   3,   0,   1,   0,   4,  14],\n",
       "       [  0,   2,  43,  94,   0,   1,   0,   5,  19,  19],\n",
       "       [  0,   2,   7,   1, 168,   1,   2,   0,   0,   0],\n",
       "       [  1,   0,  13,   1,   0, 129,   2,  28,   5,   3],\n",
       "       [  0,   1,   0,   0,   4,   1, 175,   0,   0,   0],\n",
       "       [  1,   3,  18,   0,   0,  18,   0, 133,   3,   3],\n",
       "       [  0,   1,  83,  14,   4,   1,   2,   4,  53,  12],\n",
       "       [  0,   2, 114,  29,   0,   1,   0,   3,   3,  28]], dtype=int64)"
      ]
     },
     "execution_count": 941,
     "metadata": {},
     "output_type": "execute_result"
    }
   ],
   "source": [
    "from sklearn.metrics import confusion_matrix\n",
    "confusion_matrix(y_t,y_p)"
   ]
  },
  {
   "cell_type": "code",
   "execution_count": null,
   "metadata": {},
   "outputs": [],
   "source": []
  }
 ],
 "metadata": {
  "kernelspec": {
   "display_name": "Python 3",
   "language": "python",
   "name": "python3"
  },
  "language_info": {
   "codemirror_mode": {
    "name": "ipython",
    "version": 3
   },
   "file_extension": ".py",
   "mimetype": "text/x-python",
   "name": "python",
   "nbconvert_exporter": "python",
   "pygments_lexer": "ipython3",
   "version": "3.7.4"
  }
 },
 "nbformat": 4,
 "nbformat_minor": 2
}
