{
 "cells": [
  {
   "cell_type": "code",
   "execution_count": 45,
   "metadata": {},
   "outputs": [],
   "source": [
    "#importing required modules and libraries\n",
    "import numpy as np\n",
    "from sklearn.metrics import confusion_matrix,classification_report\n",
    "from sklearn.preprocessing import StandardScaler\n",
    "from sklearn.model_selection import train_test_split\n",
    "from sklearn import datasets\n",
    "from collections import Counter\n",
    "from sklearn.metrics import accuracy_score"
   ]
  },
  {
   "cell_type": "code",
   "execution_count": 46,
   "metadata": {},
   "outputs": [],
   "source": [
    "#importing dataset and splitting data into train , test \n",
    "dataset=datasets.load_breast_cancer()\n",
    "x_train,x_test,y_train,y_test=train_test_split(dataset.data,dataset.target,test_size=0.2,random_state=0)"
   ]
  },
  {
   "cell_type": "code",
   "execution_count": 47,
   "metadata": {},
   "outputs": [],
   "source": [
    "#class of KNNclassifier\n",
    "class KNNclassifier:\n",
    "    def __init__(self):\n",
    "        self.x=None\n",
    "        self.y=None\n",
    "    \n",
    "    #funciton which fit the data\n",
    "    def fit(self,x,y):\n",
    "        self.x=x\n",
    "        self.y=y\n",
    "    \n",
    "    #funciton which predict one datapoint \n",
    "    def predict_one(self,x_test,k):\n",
    "        distances=[]\n",
    "        for i in range(len(self.x)):\n",
    "            distance = sum((x_train[i,:]-x_test)**2)\n",
    "            distances.append([distance,i])\n",
    "        distances=sorted(distances)\n",
    "        target=[]\n",
    "        for i in range(k):\n",
    "            index_of_training_data=distances[i][1]\n",
    "            target.append(self.y[index_of_training_data])\n",
    "        \n",
    "        return Counter(target).most_common(1)[0][0]\n",
    "    \n",
    "    #function which takes help of predict_one and returns output for given x_test\n",
    "    def predict(self,x_test_data,k=7):\n",
    "        predictions=[]\n",
    "        for x_test in x_test_data:\n",
    "            predictions.append(self.predict_one(x_test,k))\n",
    "        return predictions"
   ]
  },
  {
   "cell_type": "code",
   "execution_count": 48,
   "metadata": {},
   "outputs": [
    {
     "name": "stdout",
     "output_type": "stream",
     "text": [
      "[[44  3]\n",
      " [ 3 64]]\n",
      "0.9473684210526315\n"
     ]
    }
   ],
   "source": [
    "#checking accuracy of our inbuilt classifier\n",
    "clf=KNNclassifier()\n",
    "clf.fit(x_train,y_train)\n",
    "y_pred=clf.predict(x_test)\n",
    "print(confusion_matrix(y_test,y_pred))\n",
    "print(accuracy_score(y_test,y_pred))"
   ]
  },
  {
   "cell_type": "code",
   "execution_count": 49,
   "metadata": {},
   "outputs": [
    {
     "name": "stdout",
     "output_type": "stream",
     "text": [
      "[[44  3]\n",
      " [ 3 64]]\n",
      "0.9473684210526315\n"
     ]
    }
   ],
   "source": [
    "#checking accuracy of inbuilt classifier\n",
    "from sklearn.neighbors import KNeighborsClassifier\n",
    "clf=KNeighborsClassifier(n_neighbors=7)\n",
    "clf.fit(x_train,y_train)\n",
    "y_pred=clf.predict(x_test)\n",
    "print(confusion_matrix(y_test,y_pred))\n",
    "print(clf.score(x_test,y_test))"
   ]
  },
  {
   "cell_type": "code",
   "execution_count": 43,
   "metadata": {},
   "outputs": [],
   "source": [
    "#we could see that our coded classifier is working almost equal to inbuilt classifier\n",
    "#keep coding :)\n",
    "#code written by Uday kiran Bakka"
   ]
  }
 ],
 "metadata": {
  "kernelspec": {
   "display_name": "Python 3",
   "language": "python",
   "name": "python3"
  },
  "language_info": {
   "codemirror_mode": {
    "name": "ipython",
    "version": 3
   },
   "file_extension": ".py",
   "mimetype": "text/x-python",
   "name": "python",
   "nbconvert_exporter": "python",
   "pygments_lexer": "ipython3",
   "version": "3.7.4"
  }
 },
 "nbformat": 4,
 "nbformat_minor": 2
}
