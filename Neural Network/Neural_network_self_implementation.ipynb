{
 "cells": [
  {
   "cell_type": "code",
   "execution_count": 30,
   "metadata": {},
   "outputs": [],
   "source": [
    "import numpy as np"
   ]
  },
  {
   "cell_type": "code",
   "execution_count": 31,
   "metadata": {},
   "outputs": [
    {
     "data": {
      "text/plain": [
       "((4, 2), (4, 1))"
      ]
     },
     "execution_count": 31,
     "metadata": {},
     "output_type": "execute_result"
    }
   ],
   "source": [
    "x=np.array([[0,0],[0,1],[1,0],[1,1]])\n",
    "y=np.array([[0,0,0,1]]).T\n",
    "x.shape,y.shape"
   ]
  },
  {
   "cell_type": "code",
   "execution_count": 32,
   "metadata": {},
   "outputs": [],
   "source": [
    "def sig(z):\n",
    "    return (1/(1+np.exp(-z)))"
   ]
  },
  {
   "cell_type": "code",
   "execution_count": 38,
   "metadata": {},
   "outputs": [],
   "source": [
    "def dsig(z):\n",
    "    return (sig(z))*(1-sig(z))"
   ]
  },
  {
   "cell_type": "code",
   "execution_count": 70,
   "metadata": {},
   "outputs": [],
   "source": [
    "#weights and biases of hidden layer\n",
    "wh1=2*np.random.random((2,2))-1\n",
    "bh1=2*np.random.random((1,1))-1\n",
    "\n",
    "#weights and biases of output layer\n",
    "wo=2*np.random.random((2,1))-1\n",
    "bo=2*np.random.random((1,1))-1"
   ]
  },
  {
   "cell_type": "code",
   "execution_count": 71,
   "metadata": {},
   "outputs": [
    {
     "data": {
      "text/plain": [
       "(array([[2.60639083e-04],\n",
       "        [6.56001184e-03],\n",
       "        [6.55511055e-03],\n",
       "        [9.88121335e-01]]), array([[-3.29007691, -3.74309758],\n",
       "        [-3.31174036, -3.72246878]]), array([[4.31027534, 5.01085353]]), array([[-6.44118701],\n",
       "        [-7.55652608]]), array([[5.61020961]]))"
      ]
     },
     "execution_count": 71,
     "metadata": {},
     "output_type": "execute_result"
    }
   ],
   "source": [
    "lr=0.1\n",
    "for iter in range(100000):\n",
    "#forward propagation with hidden layer\n",
    "    output0=x\n",
    "    inputHidden=np.dot(output0,wh1)+bh1\n",
    "    outputHidden=sig(inputHidden)\n",
    "    inputforOutputLayer=np.dot(outputHidden,wo)+bo\n",
    "    output=sig(inputforOutputLayer)\n",
    "    \n",
    "    first_term_output_layer=output-y\n",
    "    second_term_output_layer=dsig(inputforOutputLayer)\n",
    "    first_two_output_layer=first_term_output_layer*second_term_output_layer\n",
    "\n",
    "    first_term_hidden_layer=np.dot(first_two_output_layer,wo.T)\n",
    "    second_term_hidden_layer=dsig(inputHidden)\n",
    "    first_two_hidden_layer=first_term_hidden_layer*second_term_hidden_layer\n",
    "\n",
    "    changes_output=np.dot(outputHidden.T,first_two_output_layer)\n",
    "    changes_output_bias=np.sum(first_two_output_layer,axis=0,keepdims=True)\n",
    "\n",
    "\n",
    "    changes_hidden=np.dot(output0.T,first_two_hidden_layer)\n",
    "    changes_hidden_bias=np.sum(first_two_hidden_layer,axis=0,keepdims=True)\n",
    "\n",
    "    wo=wo-lr*changes_output\n",
    "    bo=bo-lr*changes_output_bias\n",
    "\n",
    "    wh1=wh1-lr*changes_hidden\n",
    "    bh1=bh1-lr*changes_hidden_bias\n",
    "output0=x\n",
    "inputHidden=np.dot(output0,wh1)+bh1\n",
    "outputHidden=sig(inputHidden)\n",
    "inputforOutputLayer=np.dot(outputHidden,wo)+bo\n",
    "output=sig(inputforOutputLayer)\n",
    "output,wh1,bh1,wo,bo"
   ]
  },
  {
   "cell_type": "code",
   "execution_count": null,
   "metadata": {},
   "outputs": [],
   "source": []
  },
  {
   "cell_type": "code",
   "execution_count": null,
   "metadata": {},
   "outputs": [],
   "source": []
  }
 ],
 "metadata": {
  "kernelspec": {
   "display_name": "Python 3",
   "language": "python",
   "name": "python3"
  },
  "language_info": {
   "codemirror_mode": {
    "name": "ipython",
    "version": 3
   },
   "file_extension": ".py",
   "mimetype": "text/x-python",
   "name": "python",
   "nbconvert_exporter": "python",
   "pygments_lexer": "ipython3",
   "version": "3.7.4"
  }
 },
 "nbformat": 4,
 "nbformat_minor": 2
}
